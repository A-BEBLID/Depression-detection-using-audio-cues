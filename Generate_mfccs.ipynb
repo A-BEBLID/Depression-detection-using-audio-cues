{
 "cells": [
  {
   "cell_type": "code",
   "execution_count": null,
   "id": "249c83fa-a5f3-49dc-9d51-08f72ffacafa",
   "metadata": {},
   "outputs": [],
   "source": [
    "import os\n",
    "import librosa\n",
    "import numpy as np\n",
    "import pandas as pd\n",
    "\n",
    "import librosa\n",
    "import pandas as pd\n",
    "\n",
    "# Load the audio \n",
    "audio_file_path = '367_001.wav'\n",
    "y, sr = librosa.load(audio_file_path, sr=None)\n",
    "\n",
    "# Compute MFCCs\n",
    "mfccs = librosa.feature.mfcc(y=y, sr=sr, n_mfcc=39)\n",
    "\n",
    "# Transpose the MFCCs matrix so that each row corresponds to an MFCC vector\n",
    "mfccs_transposed = mfccs.T\n",
    "\n",
    "# Create a DataFrame\n",
    "mfccs_df = pd.DataFrame(mfccs_transposed)\n",
    "\n",
    "# Save to CSV\n",
    "csv_file_path = '367_001.csv'\n",
    "mfccs_df.to_csv(csv_file_path, index=False)\n",
    "\n"
   ]
  }
 ],
 "metadata": {
  "kernelspec": {
   "display_name": "Python 3 (ipykernel)",
   "language": "python",
   "name": "python3"
  },
  "language_info": {
   "codemirror_mode": {
    "name": "ipython",
    "version": 3
   },
   "file_extension": ".py",
   "mimetype": "text/x-python",
   "name": "python",
   "nbconvert_exporter": "python",
   "pygments_lexer": "ipython3",
   "version": "3.11.3"
  }
 },
 "nbformat": 4,
 "nbformat_minor": 5
}
