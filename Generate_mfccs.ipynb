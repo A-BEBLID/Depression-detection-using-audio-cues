{
 "cells": [
  {
   "cell_type": "code",
   "execution_count": 2,
   "id": "249c83fa-a5f3-49dc-9d51-08f72ffacafa",
   "metadata": {},
   "outputs": [
    {
     "name": "stdout",
     "output_type": "stream",
     "text": [
      "Collecting opensmile\n",
      "  Using cached opensmile-2.5.0-py3-none-win_amd64.whl (793 kB)\n",
      "Collecting audobject>=0.6.1 (from opensmile)\n",
      "  Using cached audobject-0.7.11-py3-none-any.whl (43 kB)\n",
      "Collecting audinterface>=0.7.0 (from opensmile)\n",
      "  Using cached audinterface-1.2.2-py3-none-any.whl (68 kB)\n",
      "Collecting audeer>=1.18.0 (from audinterface>=0.7.0->opensmile)\n",
      "  Using cached audeer-2.2.0-py3-none-any.whl (41 kB)\n",
      "Collecting audformat<2.0.0,>=1.0.1 (from audinterface>=0.7.0->opensmile)\n",
      "  Using cached audformat-1.3.0-py3-none-any.whl (151 kB)\n",
      "Collecting audiofile>=1.3.0 (from audinterface>=0.7.0->opensmile)\n",
      "  Using cached audiofile-1.5.0-py3-none-any.whl (1.1 MB)\n",
      "Requirement already satisfied: audmath>=1.4.1 in c:\\programdata\\anaconda3\\lib\\site-packages (from audinterface>=0.7.0->opensmile) (1.4.1)\n",
      "Requirement already satisfied: audresample<2.0.0,>=1.1.0 in c:\\programdata\\anaconda3\\lib\\site-packages (from audinterface>=0.7.0->opensmile) (1.3.3)\n",
      "Requirement already satisfied: importlib-metadata>=4.8.0 in c:\\programdata\\anaconda3\\lib\\site-packages (from audobject>=0.6.1->opensmile) (6.0.0)\n",
      "Requirement already satisfied: oyaml in c:\\programdata\\anaconda3\\lib\\site-packages (from audobject>=0.6.1->opensmile) (1.0)\n",
      "Requirement already satisfied: packaging in c:\\programdata\\anaconda3\\lib\\site-packages (from audobject>=0.6.1->opensmile) (23.0)\n",
      "Requirement already satisfied: tqdm in c:\\programdata\\anaconda3\\lib\\site-packages (from audeer>=1.18.0->audinterface>=0.7.0->opensmile) (4.65.0)\n",
      "Requirement already satisfied: iso-639 in c:\\programdata\\anaconda3\\lib\\site-packages (from audformat<2.0.0,>=1.0.1->audinterface>=0.7.0->opensmile) (0.4.5)\n",
      "Requirement already satisfied: iso3166 in c:\\programdata\\anaconda3\\lib\\site-packages (from audformat<2.0.0,>=1.0.1->audinterface>=0.7.0->opensmile) (2.1.1)\n",
      "Requirement already satisfied: pandas>=2.1.0 in c:\\programdata\\anaconda3\\lib\\site-packages (from audformat<2.0.0,>=1.0.1->audinterface>=0.7.0->opensmile) (2.2.2)\n",
      "Requirement already satisfied: pyarrow>=10.0.1 in c:\\programdata\\anaconda3\\lib\\site-packages (from audformat<2.0.0,>=1.0.1->audinterface>=0.7.0->opensmile) (17.0.0)\n",
      "Requirement already satisfied: pyyaml>=5.4.1 in c:\\programdata\\anaconda3\\lib\\site-packages (from audformat<2.0.0,>=1.0.1->audinterface>=0.7.0->opensmile) (6.0)\n",
      "Requirement already satisfied: numpy in c:\\programdata\\anaconda3\\lib\\site-packages (from audiofile>=1.3.0->audinterface>=0.7.0->opensmile) (1.24.3)\n",
      "Requirement already satisfied: soundfile>=0.12.1 in c:\\programdata\\anaconda3\\lib\\site-packages (from audiofile>=1.3.0->audinterface>=0.7.0->opensmile) (0.12.1)\n",
      "Requirement already satisfied: zipp>=0.5 in c:\\programdata\\anaconda3\\lib\\site-packages (from importlib-metadata>=4.8.0->audobject>=0.6.1->opensmile) (3.11.0)\n",
      "Requirement already satisfied: python-dateutil>=2.8.2 in c:\\programdata\\anaconda3\\lib\\site-packages (from pandas>=2.1.0->audformat<2.0.0,>=1.0.1->audinterface>=0.7.0->opensmile) (2.8.2)\n",
      "Requirement already satisfied: pytz>=2020.1 in c:\\programdata\\anaconda3\\lib\\site-packages (from pandas>=2.1.0->audformat<2.0.0,>=1.0.1->audinterface>=0.7.0->opensmile) (2022.7)\n",
      "Requirement already satisfied: tzdata>=2022.7 in c:\\programdata\\anaconda3\\lib\\site-packages (from pandas>=2.1.0->audformat<2.0.0,>=1.0.1->audinterface>=0.7.0->opensmile) (2024.1)\n",
      "Requirement already satisfied: cffi>=1.0 in c:\\programdata\\anaconda3\\lib\\site-packages (from soundfile>=0.12.1->audiofile>=1.3.0->audinterface>=0.7.0->opensmile) (1.15.1)\n",
      "Requirement already satisfied: colorama in c:\\programdata\\anaconda3\\lib\\site-packages (from tqdm->audeer>=1.18.0->audinterface>=0.7.0->opensmile) (0.4.6)\n",
      "Requirement already satisfied: pycparser in c:\\programdata\\anaconda3\\lib\\site-packages (from cffi>=1.0->soundfile>=0.12.1->audiofile>=1.3.0->audinterface>=0.7.0->opensmile) (2.21)\n",
      "Requirement already satisfied: six>=1.5 in c:\\programdata\\anaconda3\\lib\\site-packages (from python-dateutil>=2.8.2->pandas>=2.1.0->audformat<2.0.0,>=1.0.1->audinterface>=0.7.0->opensmile) (1.16.0)\n",
      "Installing collected packages: audeer, audobject, audiofile, audformat, audinterface, opensmile\n",
      "Successfully installed audeer-2.2.0 audformat-1.3.0 audinterface-1.2.2 audiofile-1.5.0 audobject-0.7.11 opensmile-2.5.0\n",
      "Note: you may need to restart the kernel to use updated packages.\n"
     ]
    }
   ],
   "source": [
    "pip install opensmile"
   ]
  },
  {
   "cell_type": "code",
   "execution_count": 10,
   "id": "e122f82c-0a77-45fe-9f11-5ad8c94e9b14",
   "metadata": {},
   "outputs": [],
   "source": [
    "import subprocess\n",
    "\n",
    "# Define paths\n",
    "audio_file_path = 'MDD319_AUDIO_01.wav'\n",
    "output_csv_path = 'MDD319_AUDIO_01.csv'\n",
    "opensmile_config = 'C:/opensmile/config/mfcc/MFCC12_0_D_A.conf' \n",
    "opensmile_executable = 'C:/opensmile/bin/SMILExtract.exe'  # Ensure this path is correct\n",
    "\n",
    "# Function to extract MFCCs using OpenSMILE and save to a CSV file\n",
    "def extract_mfcc_opensmile(audio_file, output_csv, opensmile_config, opensmile_executable):\n",
    "    command = [\n",
    "        opensmile_executable,\n",
    "        '-C', opensmile_config,   # Custom configuration file\n",
    "        '-I', audio_file,         # Input audio file\n",
    "        '-O', output_csv,         # Output CSV file\n",
    "    ]\n",
    "    subprocess.run(command, check=True)\n",
    "\n",
    "# Run the extraction\n",
    "extract_mfcc_opensmile(audio_file_path, output_csv_path, opensmile_config, opensmile_executable)\n"
   ]
  },
  {
   "cell_type": "code",
   "execution_count": null,
   "id": "f1e9cec2-101b-411c-9ecb-09e2a1e87150",
   "metadata": {},
   "outputs": [],
   "source": []
  }
 ],
 "metadata": {
  "kernelspec": {
   "display_name": "Python 3 (ipykernel)",
   "language": "python",
   "name": "python3"
  },
  "language_info": {
   "codemirror_mode": {
    "name": "ipython",
    "version": 3
   },
   "file_extension": ".py",
   "mimetype": "text/x-python",
   "name": "python",
   "nbconvert_exporter": "python",
   "pygments_lexer": "ipython3",
   "version": "3.11.3"
  }
 },
 "nbformat": 4,
 "nbformat_minor": 5
}
