{
 "cells": [
  {
   "cell_type": "code",
   "execution_count": null,
   "id": "249c83fa-a5f3-49dc-9d51-08f72ffacafa",
   "metadata": {},
   "outputs": [],
   "source": [
    "import os\n",
    "import subprocess\n",
    "import pandas as pd\n",
    "\n",
    "# Define paths\n",
    "audio_file_path = '367_001.wav'\n",
    "output_csv_path = '367_001.csv'\n",
    "opensmile_config = '/opensmile/config/MFCC12_E_D_A.conf'  # Update with the correct path\n",
    "opensmile_executable = '/SMILExtract'  # Update with the correct path to SMILExtract\n",
    "\n",
    "# Function to extract MFCCs using OpenSMILE and save to a CSV file\n",
    "def extract_mfcc_opensmile(audio_file, output_csv, opensmile_config, opensmile_executable):\n",
    "    # Run OpenSMILE to extract MFCCs and output them as CSV\n",
    "    command = [\n",
    "        opensmile_executable,\n",
    "        '-C', opensmile_config,  # Configuration file\n",
    "        '-I', audio_file,  # Input audio file\n",
    "        '-O', output_csv,  # Output CSV file\n",
    "    ]\n",
    "    subprocess.run(command, check=True)\n",
    "\n",
    "# Run the extraction\n",
    "extract_mfcc_opensmile(audio_file_path, output_csv_path, opensmile_config, opensmile_executable)\n",
    "\n",
    "# Optional: Load and inspect the CSV output\n",
    "mfccs_df = pd.read_csv(output_csv_path)\n",
    "print(mfccs_df.head())\n"
   ]
  }
 ],
 "metadata": {
  "kernelspec": {
   "display_name": "Python 3 (ipykernel)",
   "language": "python",
   "name": "python3"
  },
  "language_info": {
   "codemirror_mode": {
    "name": "ipython",
    "version": 3
   },
   "file_extension": ".py",
   "mimetype": "text/x-python",
   "name": "python",
   "nbconvert_exporter": "python",
   "pygments_lexer": "ipython3",
   "version": "3.11.3"
  }
 },
 "nbformat": 4,
 "nbformat_minor": 5
}
