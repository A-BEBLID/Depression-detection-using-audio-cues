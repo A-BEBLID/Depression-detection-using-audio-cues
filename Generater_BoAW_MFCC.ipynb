{
 "cells": [
  {
   "cell_type": "code",
   "execution_count": null,
   "id": "373d1a8f-c0e8-4b26-8598-ce60e85919f6",
   "metadata": {},
   "outputs": [],
   "source": [
    "import pandas as pd\n",
    "import numpy as np\n",
    "from sklearn.cluster import MiniBatchKMeans\n",
    "from sklearn.preprocessing import StandardScaler\n",
    "\n",
    "# Load the CSV file\n",
    "csv_file_path = 'concatenated_mfccs_HC.csv'\n",
    "#csv_file_path = 'concatenated_mfccs_MDD.csv'  \n",
    "mfcc_data = pd.read_csv(csv_file_path)\n",
    "\n",
    "# Normalize the MFCCs\n",
    "scaler = StandardScaler()\n",
    "mfcc_data_normalized = scaler.fit_transform(mfcc_data)\n",
    "\n",
    "# Set the number of clusters (audio words)\n",
    "num_clusters = 100  # This can be adjusted based on your data and requirements\n",
    "\n",
    "# Apply k-means clustering to create the audio words vocabulary\n",
    "kmeans = MiniBatchKMeans(n_clusters=num_clusters, random_state=42, batch_size=100)\n",
    "kmeans.fit(mfcc_data_normalized)\n",
    "\n",
    "# Assign each MFCC vector to the nearest cluster center (audio word)\n",
    "word_assignments = kmeans.predict(mfcc_data_normalized)\n",
    "\n",
    "# Generate the BoAW histogram for each audio file\n",
    "boaw_features = np.zeros((len(mfcc_data), num_clusters))\n",
    "for i, word in enumerate(word_assignments):\n",
    "    boaw_features[i, word] += 1\n",
    "\n",
    "# Convert to DataFrame for easier handling\n",
    "boaw_df = pd.DataFrame(boaw_features)\n",
    "\n",
    "# Save the BoAW presentations to a new CSV file\n",
    "boaw_df.to_csv('concatenated_HC_1000_BoAW_MFCC_with_labels.csv', index=False)\n",
    "# boaw_df.to_csv('concatenated_MDD_1000_BoAW_MFCC_with_labels.csv', index=False)\n",
    "\n",
    "print(\"HC_BoAW presentations generated and saved successfully.\")\n",
    "# print(\"MDD_BoAW presentations generated and saved successfully.\")\n"
   ]
  },
  {
   "cell_type": "code",
   "execution_count": null,
   "id": "93bcccf1-82b6-4f3b-b26a-a410b03e428e",
   "metadata": {},
   "outputs": [],
   "source": []
  }
 ],
 "metadata": {
  "kernelspec": {
   "display_name": "Python 3 (ipykernel)",
   "language": "python",
   "name": "python3"
  },
  "language_info": {
   "codemirror_mode": {
    "name": "ipython",
    "version": 3
   },
   "file_extension": ".py",
   "mimetype": "text/x-python",
   "name": "python",
   "nbconvert_exporter": "python",
   "pygments_lexer": "ipython3",
   "version": "3.11.3"
  }
 },
 "nbformat": 4,
 "nbformat_minor": 5
}
